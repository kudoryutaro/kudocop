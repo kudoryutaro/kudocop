{
 "cells": [
  {
   "cell_type": "code",
   "execution_count": 12,
   "metadata": {},
   "outputs": [],
   "source": [
    "# KudoCopからSimulationDatをインポートする\n",
    "from KudoCop import SimulationDat"
   ]
  },
  {
   "cell_type": "code",
   "execution_count": 13,
   "metadata": {},
   "outputs": [
    {
     "name": "stdout",
     "output_type": "stream",
     "text": [
      "/nfshome15/rkudo/kudocop/docs/tutorial\n",
      "dump.bond.0\t   dump.bond.3000000  dump.pos.1000000\tdump.pos.4000000\n",
      "dump.bond.1000000  dump.bond.4000000  dump.pos.2000000\tpara.rd\n",
      "dump.bond.2000000  dump.pos.0\t      dump.pos.3000000\ttutorial_sdat.ipynb\n"
     ]
    }
   ],
   "source": [
    "!pwd\n",
    "!ls"
   ]
  },
  {
   "cell_type": "code",
   "execution_count": 17,
   "metadata": {},
   "outputs": [],
   "source": [
    "# sdatを作りpara.rdとdump.pos.0を読み込む\n",
    "sdat = SimulationDat()\n",
    "sdat.import_para('para.rd')\n",
    "sdat.import_dumppos('dump.pos.0')\n",
    "sdat.import_dumpbond('dump.bond.0')"
   ]
  },
  {
   "cell_type": "code",
   "execution_count": 18,
   "metadata": {},
   "outputs": [
    {
     "data": {
      "text/plain": [
       "N     16211\n",
       "Si    12148\n",
       "H      6000\n",
       "O      3000\n",
       "Name: type, dtype: int64"
      ]
     },
     "execution_count": 18,
     "metadata": {},
     "output_type": "execute_result"
    }
   ],
   "source": [
    "# cell内の原子数をカウント\n",
    "sdat.count_atom_types()"
   ]
  },
  {
   "cell_type": "code",
   "execution_count": 27,
   "metadata": {},
   "outputs": [
    {
     "data": {
      "text/html": [
       "<div>\n",
       "<style scoped>\n",
       "    .dataframe tbody tr th:only-of-type {\n",
       "        vertical-align: middle;\n",
       "    }\n",
       "\n",
       "    .dataframe tbody tr th {\n",
       "        vertical-align: top;\n",
       "    }\n",
       "\n",
       "    .dataframe thead th {\n",
       "        text-align: right;\n",
       "    }\n",
       "</style>\n",
       "<table border=\"1\" class=\"dataframe\">\n",
       "  <thead>\n",
       "    <tr style=\"text-align: right;\">\n",
       "      <th></th>\n",
       "      <th>type</th>\n",
       "      <th>x</th>\n",
       "      <th>y</th>\n",
       "      <th>z</th>\n",
       "      <th>vx</th>\n",
       "      <th>vy</th>\n",
       "      <th>vz</th>\n",
       "      <th>q</th>\n",
       "      <th>mask</th>\n",
       "    </tr>\n",
       "  </thead>\n",
       "  <tbody>\n",
       "    <tr>\n",
       "      <th>0</th>\n",
       "      <td>6</td>\n",
       "      <td>16.849</td>\n",
       "      <td>20.389</td>\n",
       "      <td>20.174</td>\n",
       "      <td>0.001</td>\n",
       "      <td>-0.004</td>\n",
       "      <td>0.000</td>\n",
       "      <td>0.527</td>\n",
       "      <td>5</td>\n",
       "    </tr>\n",
       "    <tr>\n",
       "      <th>1</th>\n",
       "      <td>6</td>\n",
       "      <td>32.722</td>\n",
       "      <td>10.533</td>\n",
       "      <td>4.074</td>\n",
       "      <td>0.000</td>\n",
       "      <td>-0.000</td>\n",
       "      <td>0.000</td>\n",
       "      <td>0.521</td>\n",
       "      <td>4</td>\n",
       "    </tr>\n",
       "    <tr>\n",
       "      <th>2</th>\n",
       "      <td>6</td>\n",
       "      <td>23.587</td>\n",
       "      <td>11.436</td>\n",
       "      <td>13.742</td>\n",
       "      <td>0.001</td>\n",
       "      <td>-0.004</td>\n",
       "      <td>0.000</td>\n",
       "      <td>0.509</td>\n",
       "      <td>0</td>\n",
       "    </tr>\n",
       "    <tr>\n",
       "      <th>3</th>\n",
       "      <td>6</td>\n",
       "      <td>3.904</td>\n",
       "      <td>28.283</td>\n",
       "      <td>0.572</td>\n",
       "      <td>0.000</td>\n",
       "      <td>0.000</td>\n",
       "      <td>-0.000</td>\n",
       "      <td>0.116</td>\n",
       "      <td>4</td>\n",
       "    </tr>\n",
       "    <tr>\n",
       "      <th>4</th>\n",
       "      <td>6</td>\n",
       "      <td>48.649</td>\n",
       "      <td>31.810</td>\n",
       "      <td>28.123</td>\n",
       "      <td>0.001</td>\n",
       "      <td>-0.004</td>\n",
       "      <td>0.000</td>\n",
       "      <td>0.501</td>\n",
       "      <td>5</td>\n",
       "    </tr>\n",
       "    <tr>\n",
       "      <th>...</th>\n",
       "      <td>...</td>\n",
       "      <td>...</td>\n",
       "      <td>...</td>\n",
       "      <td>...</td>\n",
       "      <td>...</td>\n",
       "      <td>...</td>\n",
       "      <td>...</td>\n",
       "      <td>...</td>\n",
       "      <td>...</td>\n",
       "    </tr>\n",
       "    <tr>\n",
       "      <th>37354</th>\n",
       "      <td>2</td>\n",
       "      <td>96.081</td>\n",
       "      <td>16.863</td>\n",
       "      <td>25.520</td>\n",
       "      <td>-0.003</td>\n",
       "      <td>0.012</td>\n",
       "      <td>0.010</td>\n",
       "      <td>0.382</td>\n",
       "      <td>5</td>\n",
       "    </tr>\n",
       "    <tr>\n",
       "      <th>37355</th>\n",
       "      <td>3</td>\n",
       "      <td>95.477</td>\n",
       "      <td>17.429</td>\n",
       "      <td>25.990</td>\n",
       "      <td>-0.003</td>\n",
       "      <td>0.004</td>\n",
       "      <td>0.000</td>\n",
       "      <td>-0.783</td>\n",
       "      <td>5</td>\n",
       "    </tr>\n",
       "    <tr>\n",
       "      <th>37356</th>\n",
       "      <td>2</td>\n",
       "      <td>81.027</td>\n",
       "      <td>4.444</td>\n",
       "      <td>43.712</td>\n",
       "      <td>0.009</td>\n",
       "      <td>-0.032</td>\n",
       "      <td>0.019</td>\n",
       "      <td>0.266</td>\n",
       "      <td>5</td>\n",
       "    </tr>\n",
       "    <tr>\n",
       "      <th>37357</th>\n",
       "      <td>2</td>\n",
       "      <td>81.443</td>\n",
       "      <td>3.474</td>\n",
       "      <td>39.168</td>\n",
       "      <td>-0.001</td>\n",
       "      <td>-0.016</td>\n",
       "      <td>0.016</td>\n",
       "      <td>0.398</td>\n",
       "      <td>5</td>\n",
       "    </tr>\n",
       "    <tr>\n",
       "      <th>37358</th>\n",
       "      <td>3</td>\n",
       "      <td>82.514</td>\n",
       "      <td>3.136</td>\n",
       "      <td>40.906</td>\n",
       "      <td>-0.007</td>\n",
       "      <td>0.002</td>\n",
       "      <td>0.004</td>\n",
       "      <td>-0.596</td>\n",
       "      <td>5</td>\n",
       "    </tr>\n",
       "  </tbody>\n",
       "</table>\n",
       "<p>37359 rows × 9 columns</p>\n",
       "</div>"
      ],
      "text/plain": [
       "       type       x       y       z     vx     vy     vz      q  mask\n",
       "0         6  16.849  20.389  20.174  0.001 -0.004  0.000  0.527     5\n",
       "1         6  32.722  10.533   4.074  0.000 -0.000  0.000  0.521     4\n",
       "2         6  23.587  11.436  13.742  0.001 -0.004  0.000  0.509     0\n",
       "3         6   3.904  28.283   0.572  0.000  0.000 -0.000  0.116     4\n",
       "4         6  48.649  31.810  28.123  0.001 -0.004  0.000  0.501     5\n",
       "...     ...     ...     ...     ...    ...    ...    ...    ...   ...\n",
       "37354     2  96.081  16.863  25.520 -0.003  0.012  0.010  0.382     5\n",
       "37355     3  95.477  17.429  25.990 -0.003  0.004  0.000 -0.783     5\n",
       "37356     2  81.027   4.444  43.712  0.009 -0.032  0.019  0.266     5\n",
       "37357     2  81.443   3.474  39.168 -0.001 -0.016  0.016  0.398     5\n",
       "37358     3  82.514   3.136  40.906 -0.007  0.002  0.004 -0.596     5\n",
       "\n",
       "[37359 rows x 9 columns]"
      ]
     },
     "execution_count": 27,
     "metadata": {},
     "output_type": "execute_result"
    }
   ],
   "source": [
    "# cell内の原子の情報を表示\n",
    "sdat.atoms"
   ]
  },
  {
   "cell_type": "code",
   "execution_count": 20,
   "metadata": {},
   "outputs": [
    {
     "data": {
      "text/plain": [
       "{'H-H': 0,\n",
       " 'H-O': 5649,\n",
       " 'H-N': 350,\n",
       " 'H-Si': 0,\n",
       " 'O-O': 0,\n",
       " 'O-N': 169,\n",
       " 'O-Si': 385,\n",
       " 'N-N': 7,\n",
       " 'N-Si': 44848,\n",
       " 'Si-Si': 881}"
      ]
     },
     "execution_count": 20,
     "metadata": {},
     "output_type": "execute_result"
    }
   ],
   "source": [
    "# bond orderが0.5以上のものを結合しているとみなし、結合数をカウント\n",
    "sdat.count_bonds(bond_type='dumpbond', cut_off=0.5)"
   ]
  },
  {
   "cell_type": "code",
   "execution_count": 23,
   "metadata": {},
   "outputs": [
    {
     "data": {
      "text/plain": [
       "{'H-H': 663,\n",
       " 'H-O': 5723,\n",
       " 'H-N': 379,\n",
       " 'H-Si': 0,\n",
       " 'O-O': 0,\n",
       " 'O-N': 0,\n",
       " 'O-Si': 3,\n",
       " 'N-N': 4,\n",
       " 'N-Si': 396,\n",
       " 'Si-Si': 0}"
      ]
     },
     "execution_count": 23,
     "metadata": {},
     "output_type": "execute_result"
    }
   ],
   "source": [
    "# 原子間の距離が1.5以下のものを結合しているとみなし、結合数をカウント\n",
    "sdat.count_bonds(bond_type='dumppos', cut_off=1.5)"
   ]
  },
  {
   "cell_type": "code",
   "execution_count": 25,
   "metadata": {},
   "outputs": [
    {
     "data": {
      "text/plain": [
       "{'N1': 2, 'H5O2N1': 1, 'H4O1N1': 1, 'H2O1': 2395, 'H3O1': 101, 'H1': 1}"
      ]
     },
     "execution_count": 25,
     "metadata": {},
     "output_type": "execute_result"
    }
   ],
   "source": [
    "# bond orderが0.5以上のものを結合しているとみなし、分子数をカウント\n",
    "sdat.count_mols(bond_type='dumpbond', cut_off=0.5)"
   ]
  },
  {
   "cell_type": "code",
   "execution_count": 26,
   "metadata": {},
   "outputs": [
    {
     "data": {
      "text/plain": [
       "{'Si1': 11749,\n",
       " 'N1Si1': 389,\n",
       " 'H1N1Si1': 4,\n",
       " 'H1O1Si1': 3,\n",
       " 'H2O1N1Si1': 3,\n",
       " 'H1N1': 303,\n",
       " 'N1': 15459,\n",
       " 'N2': 4,\n",
       " 'H2N1': 19,\n",
       " 'H2O1N1': 18,\n",
       " 'H3O1N1': 4,\n",
       " 'H1O1N1': 4,\n",
       " 'H2O1': 2380,\n",
       " 'H4O2': 2,\n",
       " 'H5O2': 52,\n",
       " 'H1O1': 368,\n",
       " 'H3O1': 44,\n",
       " 'O1': 34,\n",
       " 'H3O2': 8,\n",
       " 'H7O3': 6}"
      ]
     },
     "execution_count": 26,
     "metadata": {},
     "output_type": "execute_result"
    }
   ],
   "source": [
    "# 原子間の距離が1.5以下のものを結合しているとみなし、分子数をカウント\n",
    "sdat.count_mols(bond_type='dumppos', cut_off=1.5)"
   ]
  },
  {
   "cell_type": "code",
   "execution_count": null,
   "metadata": {},
   "outputs": [],
   "source": []
  }
 ],
 "metadata": {
  "kernelspec": {
   "display_name": "Python 3.9.7 ('base': conda)",
   "language": "python",
   "name": "python3"
  },
  "language_info": {
   "codemirror_mode": {
    "name": "ipython",
    "version": 3
   },
   "file_extension": ".py",
   "mimetype": "text/x-python",
   "name": "python",
   "nbconvert_exporter": "python",
   "pygments_lexer": "ipython3",
   "version": "3.9.7"
  },
  "orig_nbformat": 4,
  "vscode": {
   "interpreter": {
    "hash": "667ba9fa9a87e9dee1ff6c5e07fd8433d49b8be94c9bb46675b1582bf8a49bbd"
   }
  }
 },
 "nbformat": 4,
 "nbformat_minor": 2
}
